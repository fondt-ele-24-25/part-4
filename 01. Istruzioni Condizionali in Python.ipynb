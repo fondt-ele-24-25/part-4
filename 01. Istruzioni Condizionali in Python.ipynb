{
 "cells": [
  {
   "cell_type": "markdown",
   "metadata": {
    "slideshow": {
     "slide_type": "slide"
    }
   },
   "source": [
    "# Istruzioni Condizionali in Python"
   ]
  },
  {
   "cell_type": "markdown",
   "metadata": {
    "slideshow": {
     "slide_type": "subslide"
    }
   },
   "source": [
    "## Istruzioni di Controllo di Flusso\n",
    "\n",
    "**Finora ci siamo focalizzati su:**\n",
    "\n",
    "* Come rappresentare informazioni\n",
    "  - In particolare: tipi di dato semplici e collezioni\n",
    "* Come effettuare calcoli\n",
    "  - In particolare: espressioni semplici e composte\n",
    "\n",
    "In ogni caso, abbiamo assunto che le istruzioni siano eseguite _una dopo l'altra_"
   ]
  },
  {
   "cell_type": "markdown",
   "metadata": {},
   "source": [
    "**Vedremo ore come _alterare il flusso di controllo_**\n",
    "\n",
    "...I.e. come eseguire istruzioni _non necessariamente in sequenza_\n",
    "\n",
    "* In Python, questo è possibile mediante un insieme di istruzioni\n",
    "* ...Note come _istruzioni di controllo di flusso_\n",
    "\n",
    "Ve ne sono due categorie principali, i.e. istruzioni di _selezione_ e di _iterazione_"
   ]
  },
  {
   "cell_type": "markdown",
   "metadata": {
    "slideshow": {
     "slide_type": "subslide"
    }
   },
   "source": [
    "## Istruzioni Condizionali\n",
    "\n",
    "**Iniziamo considerando le _istruzioni condizionali_ (o _di selezione_)**\n",
    "\n",
    "Le istruzioni di selezione:\n",
    "\n",
    "* ...Permettono di scegliere _quale_ tra un insieme di istruzioni eseguire\n",
    "* ...Sulla base del valore di una espressione\n",
    "\n",
    "**In Python ce ne sono due:**\n",
    "\n",
    "* Istruzione `if`\n",
    "* Istruzione di pattern matching (da Python 3.10)\n",
    "\n",
    "**In questo corso vedremo solo l'istruzione `if`**"
   ]
  },
  {
   "cell_type": "markdown",
   "metadata": {
    "slideshow": {
     "slide_type": "subslide"
    }
   },
   "source": [
    "## Istruzione `if`\n",
    "\n",
    "**L'_istruzione \"`if`\"_**\n",
    "\n",
    "* Esegue una o più istruzioni facenti parte di un _blocco_\n",
    "* ...Solo se una determinata condizione è verificata\n",
    "\n",
    "**La sintassi è:**\n",
    "\n",
    "```\n",
    "if <espr. condizione>:\n",
    "    <blocco>\n",
    "```\n",
    "\n",
    "* `<espr. condizione>` denota tipicamente un valore logico\n",
    "* `<blocco>` consiste di una o più istruzioni\n",
    "* ...Indentificabili perché devono avere _lo stesso livello di indentazione_\n",
    "\n",
    "**Indentazione = numeri di _spazi (o tab)_ prima dell'istruzione**"
   ]
  },
  {
   "cell_type": "markdown",
   "metadata": {
    "slideshow": {
     "slide_type": "subslide"
    }
   },
   "source": [
    "## Istruzione `if`\n",
    "\n",
    "**Vediamo un esempio**"
   ]
  },
  {
   "cell_type": "code",
   "execution_count": 1,
   "metadata": {},
   "outputs": [
    {
     "name": "stdout",
     "output_type": "stream",
     "text": [
      "La variabile \"a\" ha un valore...\n",
      "...Inferiore a 4\n"
     ]
    }
   ],
   "source": [
    "a = 2\n",
    "if a < 4:\n",
    "    print('La variabile \"a\" ha un valore...')\n",
    "    print('...Inferiore a 4')"
   ]
  },
  {
   "cell_type": "markdown",
   "metadata": {},
   "source": [
    "Le due istruzioni di stampa:\n",
    "\n",
    "* Seguono il simbolo \"`:`\"\n",
    "* Sono preceduti dallo stesso numeri di spazi/tab\n",
    "  - Non importa quanti, purché l'indentazione sia la stessa\n",
    "\n",
    "**Si dice che formano un _blocco_**"
   ]
  },
  {
   "cell_type": "markdown",
   "metadata": {
    "slideshow": {
     "slide_type": "subslide"
    }
   },
   "source": [
    "## Istruzione `if`\n",
    "\n",
    "**Vediamo un esempio**"
   ]
  },
  {
   "cell_type": "code",
   "execution_count": 2,
   "metadata": {},
   "outputs": [
    {
     "ename": "IndentationError",
     "evalue": "unexpected indent (144165382.py, line 4)",
     "output_type": "error",
     "traceback": [
      "  \u001b[36mCell\u001b[39m\u001b[36m \u001b[39m\u001b[32mIn[2]\u001b[39m\u001b[32m, line 4\u001b[39m\n\u001b[31m    \u001b[39m\u001b[31mprint('...Inferiore a 4')\u001b[39m\n    ^\n\u001b[31mIndentationError\u001b[39m\u001b[31m:\u001b[39m unexpected indent\n"
     ]
    }
   ],
   "source": [
    "a = 2\n",
    "if a < 4:\n",
    "    print('La variabile \"a\" ha un valore...')\n",
    "      print('...Inferiore a 4')"
   ]
  },
  {
   "cell_type": "markdown",
   "metadata": {},
   "source": [
    "* Se l'indentazione è inconsistente\n",
    "* ...Python segnala un errore di sintassi"
   ]
  },
  {
   "cell_type": "markdown",
   "metadata": {
    "slideshow": {
     "slide_type": "subslide"
    }
   },
   "source": [
    "## Istruzione `if`\n",
    "\n",
    "**Vediamo un esempio**"
   ]
  },
  {
   "cell_type": "code",
   "execution_count": 3,
   "metadata": {},
   "outputs": [
    {
     "name": "stdout",
     "output_type": "stream",
     "text": [
      "b = 1.0\n"
     ]
    }
   ],
   "source": [
    "a = 2\n",
    "if a != 0:\n",
    "    b = 2 / a\n",
    "    print(f'b = {b}')"
   ]
  },
  {
   "cell_type": "markdown",
   "metadata": {},
   "source": [
    "* La condizione `a != 0` in questo caso è vera\n",
    "* ...Quindi il blocco viene eseguito (ed otteniamo la stampa)"
   ]
  },
  {
   "cell_type": "markdown",
   "metadata": {
    "slideshow": {
     "slide_type": "subslide"
    }
   },
   "source": [
    "## Istruzione `if`\n",
    "\n",
    "**Vediamo un esempio**"
   ]
  },
  {
   "cell_type": "code",
   "execution_count": 1,
   "metadata": {},
   "outputs": [],
   "source": [
    "a = 0 # Il valore di a è stato modificato\n",
    "if a != 0:\n",
    "    b = 2 / a\n",
    "    print(f'b = {b}')"
   ]
  },
  {
   "cell_type": "markdown",
   "metadata": {},
   "source": [
    "* Se modifichiamo il valore di `a` in modo da rendere la condizione falsa\n",
    "* ...Il blocco non viene più eseguito"
   ]
  },
  {
   "cell_type": "markdown",
   "metadata": {
    "slideshow": {
     "slide_type": "subslide"
    }
   },
   "source": [
    "## Istruzione `if`\n",
    "\n",
    "**In generale, la semantica di una istruzione `if`**\n",
    "\n",
    "...È definita dal seguente digramma di flusso:\n",
    "\n",
    "<center>\n",
    "<img src=\"assets/fc_if.png\" width=40%/>\n",
    "</center>\n",
    "\n",
    "* Il blocco viene eseguito solo se l'espressione (condizione) è vera"
   ]
  },
  {
   "cell_type": "markdown",
   "metadata": {
    "slideshow": {
     "slide_type": "subslide"
    }
   },
   "source": [
    "## Istruzione `if.. else`\n",
    "\n",
    "**Utilizzando la parola chiave _`else`_**\n",
    "\n",
    "...È possibile specificare un blocco da eseguire in caso la condizione sia _falsa_:\n",
    "\n",
    "```\n",
    "if <espr. condizione>:\n",
    "    <sequenza di istruzioni>\n",
    "else:\n",
    "    <sequenza di istruzioni>\n",
    "```\n",
    "\n",
    "**Vediamo un esempio:**"
   ]
  },
  {
   "cell_type": "code",
   "execution_count": 2,
   "metadata": {},
   "outputs": [
    {
     "name": "stdout",
     "output_type": "stream",
     "text": [
      "Il valore di \"a\" non può essere 0\n"
     ]
    }
   ],
   "source": [
    "a = 0 # Il valore di a è stato modificato\n",
    "if a != 0:\n",
    "    b = 2 / a\n",
    "    print(f'b = {b}')\n",
    "else:\n",
    "    print('Il valore di \"a\" non può essere 0')"
   ]
  },
  {
   "cell_type": "markdown",
   "metadata": {
    "slideshow": {
     "slide_type": "subslide"
    }
   },
   "source": [
    "## Istruzione `if.. else`\n",
    "\n",
    "**La semantica di una istruzione `if... else`**\n",
    "\n",
    "...È definita dal seguente digramma di flusso:\n",
    "\n",
    "<center>\n",
    "<img src=\"assets/fc_ifelse.png\" width=60%/>\n",
    "</center>\n",
    "\n",
    "* Il blocco `if` viene eseguito se l'espressione (condizione) è vera\n",
    "* Il blocco `else` viene eseguito se l'espressione (condizione) è falsa"
   ]
  },
  {
   "cell_type": "markdown",
   "metadata": {
    "slideshow": {
     "slide_type": "subslide"
    }
   },
   "source": [
    "## Istruzione `if... elif`\n",
    "\n",
    "**Utilizzando la parola chiave _`elif`_**\n",
    "\n",
    "* ...È possibile specificare un blocco da eseguire in caso la condizione sia _falsa_\n",
    "* ...Ma un'ulteriore condizione sia _vera_\n",
    "\n",
    "**La sintassi è la seguente:**\n",
    "\n",
    "```\n",
    "if <espr. condizione>:\n",
    "    <sequenza di istruzioni>\n",
    "elif <espr. condizione>:\n",
    "    <sequenza di istruzioni>\n",
    "```\n",
    "\n",
    "**Il blocco \"condizionato\" dalla parola chiave `elif` viene eseguito:**\n",
    "\n",
    "* Se l'espressione che segue `if` denota _falso_\n",
    "* ...E l'espressione che segue `elif` denota _vero_"
   ]
  },
  {
   "cell_type": "markdown",
   "metadata": {
    "slideshow": {
     "slide_type": "subslide"
    }
   },
   "source": [
    "## Istruzione `if... elif`\n",
    "\n",
    "**Può essere presente più di un `elif` (più eventualmente un `else`)**\n",
    "\n",
    "```\n",
    "if <espr. condizione>:\n",
    "    <sequenza di istruzioni>\n",
    "elif <espr. condizione>:\n",
    "    <sequenza di istruzioni>\n",
    "elif <espr. condizione>:\n",
    "    <sequenza di istruzioni>\n",
    "...\n",
    "else:\n",
    "    <sequenza di istruzioni>\n",
    "```\n",
    "\n",
    "Il blocco condizionato da ogni `elif` è eseguito:\n",
    "\n",
    "* Se le espressioni dell'`if` e degli `elif` precedenti sono _false_\n",
    "* ...E l'espressione dell'`elif` è _vera_\n",
    "\n",
    "Il blocco else è eseguito nel caso tutte le espressioni siano _false_"
   ]
  },
  {
   "cell_type": "markdown",
   "metadata": {
    "slideshow": {
     "slide_type": "subslide"
    }
   },
   "source": [
    "## Istruzione `if... elif`\n",
    "\n",
    "**Vediamo un esempio:**"
   ]
  },
  {
   "cell_type": "code",
   "execution_count": 3,
   "metadata": {},
   "outputs": [
    {
     "name": "stdout",
     "output_type": "stream",
     "text": [
      "giorni: 31\n"
     ]
    }
   ],
   "source": [
    "mese = 3\n",
    "giorni = None\n",
    "if mese == 2:\n",
    "    giorni = 28\n",
    "elif mese in (4, 6, 9, 11):\n",
    "    giorni = 30\n",
    "elif mese in (1, 3, 5, 7, 8, 10, 12):\n",
    "    giorni = 31\n",
    "else:\n",
    "    print(f'\"{mese}\" non è un valore di mese valido\"')\n",
    "print(f'giorni: {giorni}')"
   ]
  },
  {
   "cell_type": "markdown",
   "metadata": {},
   "source": [
    "* L'operatore `in` è usato per verificare se il valore di `mese`\n",
    "* ...È tra quelli contenuti in determinate tuple"
   ]
  },
  {
   "cell_type": "markdown",
   "metadata": {
    "slideshow": {
     "slide_type": "subslide"
    }
   },
   "source": [
    "## Istruzioni `if` Annidate\n",
    "\n",
    "**Le istruzioni in un blocco possono essere altre istruzioni `if`**\n",
    "\n",
    "Vediamo come esempio un confronto di date\n",
    "\n",
    "* Alla fine la variabile `res` deve essere negativo se `d1` precede `d2`\n",
    "* ...Deve essere positivo se `d1` segue `d2` e 0 se sono uguali"
   ]
  },
  {
   "cell_type": "code",
   "execution_count": 4,
   "metadata": {},
   "outputs": [
    {
     "name": "stdout",
     "output_type": "stream",
     "text": [
      "(2022, 10, 4) precede (2022, 10, 7)\n"
     ]
    }
   ],
   "source": [
    "d1, d2 = (2022, 10, 4), (2022, 10, 7) # formato: (anno, mese, giorno)\n",
    "# Confronto\n",
    "res = d1[0] - d2[0] # confrontiamo gli anni\n",
    "if res == 0: # vero se gli anni sono uguali\n",
    "    res = d1[1] - d2[1]\n",
    "    if res == 0: # vero se i mesi sono uguali\n",
    "        res = d1[2] - d2[2]\n",
    "# Stampa\n",
    "if res < 0:\n",
    "    print(f'{d1} precede {d2}')\n",
    "elif res > 0:\n",
    "    print(f'{d1} segue {d2}')\n",
    "else:\n",
    "    print(f'{d1} e {d2} sono uguali')"
   ]
  },
  {
   "cell_type": "markdown",
   "metadata": {
    "slideshow": {
     "slide_type": "subslide"
    }
   },
   "source": [
    "## Istruzione `if` e variabili\n",
    "\n",
    "**Eventuali variabili definite in blocco `if` (o `elif` o `else`)**\n",
    "\n",
    "...Hanno lo stesso tempo di vita che avrebbero se fossere definite fuori"
   ]
  },
  {
   "cell_type": "code",
   "execution_count": 5,
   "metadata": {},
   "outputs": [
    {
     "name": "stdout",
     "output_type": "stream",
     "text": [
      "giorni: 28\n"
     ]
    }
   ],
   "source": [
    "mese = 2\n",
    "if mese == 2:\n",
    "    giorni = 28\n",
    "print(f'giorni: {giorni}')"
   ]
  },
  {
   "cell_type": "markdown",
   "metadata": {},
   "source": [
    "In questo caso:\n",
    "\n",
    "* La variabile giorni è creata nel blocco `if`\n",
    "* ...Ma è comunque una variabile globale\n",
    "\n",
    "Per questa ragione può essere stampata al di fuori del blocco"
   ]
  },
  {
   "cell_type": "markdown",
   "metadata": {
    "slideshow": {
     "slide_type": "subslide"
    }
   },
   "source": [
    "## Istruzione `if` e variabili\n",
    "\n",
    "**Eventuali variabili definite in blocco `if` (o `elif` o `else`)**\n",
    "\n",
    "...Hanno lo stesso tempo di vita che avrebbero se fossere definite fuori"
   ]
  },
  {
   "cell_type": "code",
   "execution_count": 6,
   "metadata": {},
   "outputs": [
    {
     "name": "stdout",
     "output_type": "stream",
     "text": [
      "giorni: 28\n"
     ]
    }
   ],
   "source": [
    "mese = 2\n",
    "if mese == 2:\n",
    "    giorni = 28\n",
    "print(f'giorni: {giorni}')"
   ]
  },
  {
   "cell_type": "markdown",
   "metadata": {},
   "source": [
    "> **Si dice che le variabili nel blocco sono definite nello stesso _ambiente_ dell'istruzione `if`**"
   ]
  },
  {
   "cell_type": "markdown",
   "metadata": {
    "slideshow": {
     "slide_type": "subslide"
    }
   },
   "source": [
    "## Istruzione `if` e variabili\n",
    "\n",
    "**Se una variabili viene definita nel blocco...**\n",
    "\n",
    "...È necessario che il blocco esegua perché la variabile sia creata"
   ]
  },
  {
   "cell_type": "code",
   "execution_count": 7,
   "metadata": {},
   "outputs": [
    {
     "ename": "NameError",
     "evalue": "name 'giorni2' is not defined",
     "output_type": "error",
     "traceback": [
      "\u001b[31m---------------------------------------------------------------------------\u001b[39m",
      "\u001b[31mNameError\u001b[39m                                 Traceback (most recent call last)",
      "\u001b[36mCell\u001b[39m\u001b[36m \u001b[39m\u001b[32mIn[7]\u001b[39m\u001b[32m, line 4\u001b[39m\n\u001b[32m      2\u001b[39m \u001b[38;5;28;01mif\u001b[39;00m mese == \u001b[32m2\u001b[39m:\n\u001b[32m      3\u001b[39m     giorni2 = \u001b[32m28\u001b[39m \u001b[38;5;66;03m# una nuova variabile (perché \"giorni\" esiste ancora)\u001b[39;00m\n\u001b[32m----> \u001b[39m\u001b[32m4\u001b[39m \u001b[38;5;28mprint\u001b[39m(\u001b[33mf\u001b[39m\u001b[33m'\u001b[39m\u001b[33mgiorni2: \u001b[39m\u001b[38;5;132;01m{\u001b[39;00m\u001b[43mgiorni2\u001b[49m\u001b[38;5;132;01m}\u001b[39;00m\u001b[33m'\u001b[39m)\n",
      "\u001b[31mNameError\u001b[39m: name 'giorni2' is not defined"
     ]
    }
   ],
   "source": [
    "mese = 3 # Il valore di mese è stato cambiato\n",
    "if mese == 2:\n",
    "    giorni2 = 28 # una nuova variabile (perché \"giorni\" esiste ancora)\n",
    "print(f'giorni2: {giorni2}')"
   ]
  },
  {
   "cell_type": "markdown",
   "metadata": {},
   "source": [
    "* Se il blocco `if` non viene eseguito\n",
    "* ...La variabile non viene creata!"
   ]
  },
  {
   "cell_type": "markdown",
   "metadata": {
    "slideshow": {
     "slide_type": "subslide"
    }
   },
   "source": [
    "## Istruzione `if` e variabili\n",
    "\n",
    "**Per questo, è buona norma non definire nuove variabili in un blocco `if`**"
   ]
  },
  {
   "cell_type": "code",
   "execution_count": 8,
   "metadata": {},
   "outputs": [
    {
     "name": "stdout",
     "output_type": "stream",
     "text": [
      "giorni3: None\n"
     ]
    }
   ],
   "source": [
    "mese = 3 # Il valore di mese è stato cambiato\n",
    "giorni3 = None # una nuova variabile (per la stessa ragione di prima)\n",
    "if mese == 2:\n",
    "    giorni3 = 28\n",
    "print(f'giorni3: {giorni3}')"
   ]
  },
  {
   "cell_type": "markdown",
   "metadata": {},
   "source": [
    "* Meglio definirle fuori (come `giorni3` in questo caso), con un valore di default\n",
    "* ...Ed eventualmente modificarne il valore nel blocco\n",
    "\n",
    "**Attenzione:** si tratta solo di una buona pratica e non di una limitazione di Python"
   ]
  },
  {
   "cell_type": "markdown",
   "metadata": {
    "slideshow": {
     "slide_type": "subslide"
    }
   },
   "source": [
    "## Istruzione `if` e variabili\n",
    "\n",
    "**L'eccezione sono eventuali variabili che servono solo all'interno del blocco**"
   ]
  },
  {
   "cell_type": "code",
   "execution_count": 9,
   "metadata": {},
   "outputs": [
    {
     "name": "stdout",
     "output_type": "stream",
     "text": [
      "giorni3: 29\n"
     ]
    }
   ],
   "source": [
    "mese, anno = 2, 1980\n",
    "giorni3 = None # una nuova variabile (per la stessa ragione di prima)\n",
    "if mese == 2:\n",
    "    bisestile = (anno % 4 == 0)\n",
    "    if bisestile:\n",
    "        giorni3 = 29\n",
    "    else:\n",
    "        giorni3 = 28\n",
    "print(f'giorni3: {giorni3}')"
   ]
  },
  {
   "cell_type": "markdown",
   "metadata": {},
   "source": [
    "* In questo caso, la variabile `bisestile` è utile solo all'interno del blocco\n",
    "* L'esempio mostra anche come un blocco possa _contenere a sua volta un `if`_\n",
    "* In questo caso si parla di `if` _innestati_"
   ]
  },
  {
   "cell_type": "markdown",
   "metadata": {
    "slideshow": {
     "slide_type": "subslide"
    }
   },
   "source": [
    "## Istruzione `if` e variabili\n",
    "\n",
    "**L'eccezione sono eventuali variabili che servono solo all'interno del blocco**"
   ]
  },
  {
   "cell_type": "code",
   "execution_count": 10,
   "metadata": {},
   "outputs": [
    {
     "name": "stdout",
     "output_type": "stream",
     "text": [
      "giorni3: 29\n",
      "bisestile: True\n"
     ]
    }
   ],
   "source": [
    "mese, anno = 2, 1980\n",
    "giorni3 = None # una nuova variabile (per la stessa ragione di prima)\n",
    "if mese == 2:\n",
    "    bisestile = (anno % 4 == 0)\n",
    "    if bisestile:\n",
    "        giorni3 = 29\n",
    "    else:\n",
    "        giorni3 = 28\n",
    "print(f'giorni3: {giorni3}')\n",
    "print(f'bisestile: {bisestile}')"
   ]
  },
  {
   "cell_type": "markdown",
   "metadata": {},
   "source": [
    "* Anche in questo caso, si tratta solo di una buona pratica\n",
    "* ...E infatti la variabile `bisestile` è accessibile anche fuori dal blocco"
   ]
  },
  {
   "cell_type": "markdown",
   "metadata": {
    "slideshow": {
     "slide_type": "subslide"
    }
   },
   "source": [
    "## Espressione Condizionale\n",
    "\n",
    "**Python fornisce anche un costrutto chiamato _espressione condizionale_**\n",
    "\n",
    "La sintassi è:\n",
    "\n",
    "```\n",
    "<espressione condizionale> ::= <espr. 1> if <espr. cond> else <espr. 2>\n",
    "```\n",
    "\n",
    "Non si tratta di una istruzione, ma di una _espressione_\n",
    "\n",
    "* È definita mediate l'_operatore_ ternario (i.e. con tre argomenti) `if ... else`\n",
    "* Se `<espr. cond>` è vera, l'operatore denota `<espr. 1>`\n",
    "* Se `<espr. cond>` è falsa, l'operatore denota `<espr. 2>`\n",
    "\n",
    "**Vediamo un esempio:**"
   ]
  },
  {
   "cell_type": "code",
   "execution_count": 11,
   "metadata": {},
   "outputs": [
    {
     "name": "stdout",
     "output_type": "stream",
     "text": [
      "bau\n"
     ]
    }
   ],
   "source": [
    "animale = 'cane'\n",
    "print('bau' if animale == 'cane' else 'miao')"
   ]
  },
  {
   "cell_type": "markdown",
   "metadata": {
    "slideshow": {
     "slide_type": "subslide"
    }
   },
   "source": [
    "## Espressione Condizionale\n",
    "\n",
    "**Anche se la sintassi è simile**\n",
    "\n",
    "...L'istruzione `if ... else` e l'operatore `if ... else` sono diversi:\n",
    "\n",
    "* L'operatore denota un valore, l'istruzione no"
   ]
  },
  {
   "cell_type": "code",
   "execution_count": 12,
   "metadata": {},
   "outputs": [
    {
     "name": "stdout",
     "output_type": "stream",
     "text": [
      "a: None\n"
     ]
    }
   ],
   "source": [
    "b = 0\n",
    "a = 1/b if b != 0 else None\n",
    "print(f'a: {a}')"
   ]
  },
  {
   "cell_type": "markdown",
   "metadata": {},
   "source": [
    "* In questo caso il valore denotato viene inserito in `a`"
   ]
  },
  {
   "cell_type": "markdown",
   "metadata": {
    "slideshow": {
     "slide_type": "subslide"
    }
   },
   "source": [
    "## Espressione Condizionale\n",
    "\n",
    "**Anche se la sintassi è simile**\n",
    "\n",
    "...L'istruzione `if ... else` e l'operatore `if ... else` sono diversi:\n",
    "\n",
    "* L'istruzione può eseguire blocchi con istruzioni abritrarie\n",
    "* ...Mentre l'operatore può solo valutare espressioni"
   ]
  },
  {
   "cell_type": "code",
   "execution_count": 13,
   "metadata": {},
   "outputs": [
    {
     "name": "stdout",
     "output_type": "stream",
     "text": [
      "\"b\" non può avere il valore 0\n"
     ]
    }
   ],
   "source": [
    "b = 0\n",
    "if b != 0:\n",
    "    a = 1 / b\n",
    "    print(f'a: {a}')\n",
    "else:\n",
    "    print('\"b\" non può avere il valore 0')"
   ]
  }
 ],
 "metadata": {
  "celltoolbar": "Slideshow",
  "kernelspec": {
   "display_name": "Python 3 (ipykernel)",
   "language": "python",
   "name": "python3"
  },
  "language_info": {
   "codemirror_mode": {
    "name": "ipython",
    "version": 3
   },
   "file_extension": ".py",
   "mimetype": "text/x-python",
   "name": "python",
   "nbconvert_exporter": "python",
   "pygments_lexer": "ipython3",
   "version": "3.11.11"
  },
  "rise": {
   "center": false,
   "enable_chalkboard": true,
   "transition": "fade"
  }
 },
 "nbformat": 4,
 "nbformat_minor": 4
}
