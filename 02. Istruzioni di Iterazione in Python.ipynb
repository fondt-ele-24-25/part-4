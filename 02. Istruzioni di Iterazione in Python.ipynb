{
 "cells": [
  {
   "cell_type": "markdown",
   "metadata": {
    "slideshow": {
     "slide_type": "slide"
    }
   },
   "source": [
    "\n",
    "# Istruzioni di Iterazione"
   ]
  },
  {
   "cell_type": "markdown",
   "metadata": {
    "slideshow": {
     "slide_type": "subslide"
    }
   },
   "source": [
    "## Istruzioni di Iterazione\n",
    "\n",
    "**Le _istruzioni di iterazione_ permettono di _ripetere_ una o più istruzioni**\n",
    "\n",
    "Sono uno dei fondamenti della _programmazione strutturata_\n",
    "\n",
    "* Insieme alle _istruzioni condizionali_\n",
    "* ...Ed alla esecuzione in _sequenza_ (naturale in Python)\n",
    "\n",
    "Sono sufficienti a descrivere [qualsiasi algoritmo](https://it.wikipedia.org/wiki/Programmazione_strutturata)"
   ]
  },
  {
   "cell_type": "markdown",
   "metadata": {},
   "source": [
    "**In Python ce ne sono due:**\n",
    "\n",
    "* I cicli `for` (di gran lunga i più usati)\n",
    "  - Permettono di iterare sugli elementi di una collezione\n",
    "* I cicli `while`\n",
    "  - Permettono di iterare fintanto che una condizione è vera"
   ]
  },
  {
   "cell_type": "markdown",
   "metadata": {
    "slideshow": {
     "slide_type": "subslide"
    }
   },
   "source": [
    "## Cicli `for` in Python\n",
    "\n",
    "**L'istruzione `for` (o ciclo `for`) in Python**\n",
    "\n",
    "...Permette di iterare _sugli elementi di una collezione_\n",
    "\n",
    "* La sintassi è la seguente:\n",
    "\n",
    "```\n",
    "for <var> in <espr. collezione>:\n",
    "    <blocco>\n",
    "```\n",
    "\n",
    "* Innanzitutto, viene definita la variable `<var>`\n",
    "* Le istruzioni in `<blocco>` vengono ripetute per ogni elemento in `<collezione>`\n",
    "* Ad ogni iterazione, a `<var>` viene assegnato come valore tale elemento"
   ]
  },
  {
   "cell_type": "markdown",
   "metadata": {
    "slideshow": {
     "slide_type": "subslide"
    }
   },
   "source": [
    "## Cicli `for` in Python\n",
    "\n",
    "**Vediamo un semplice esempio:**"
   ]
  },
  {
   "cell_type": "code",
   "execution_count": 9,
   "metadata": {},
   "outputs": [
    {
     "name": "stdout",
     "output_type": "stream",
     "text": [
      "a: 1\n",
      "a: 2\n",
      "a: 3\n"
     ]
    }
   ],
   "source": [
    "for a in [1, 2, 3]:\n",
    "    print(f'a: {a}')"
   ]
  },
  {
   "cell_type": "markdown",
   "metadata": {},
   "source": [
    "* Il blocco esegue una volta per ogni valore della lista\n",
    "* Ad ogni iterazione la variabile `a` prende il valore di un elemento\n",
    "\n",
    "**La collezione può essere ottenuta con una qualunque espressione:**"
   ]
  },
  {
   "cell_type": "code",
   "execution_count": 10,
   "metadata": {},
   "outputs": [
    {
     "name": "stdout",
     "output_type": "stream",
     "text": [
      "a: 1\n",
      "a: 2\n",
      "a: 3\n"
     ]
    }
   ],
   "source": [
    "L = [1, 2, 3]\n",
    "for a in L: # In questo caso abbiamo usato una variabile\n",
    "    print(f'a: {a}')"
   ]
  },
  {
   "cell_type": "markdown",
   "metadata": {
    "slideshow": {
     "slide_type": "subslide"
    }
   },
   "source": [
    "## Cicli `for` in Python\n",
    "\n",
    "**Funziona con qualunque tipo di collezione, e.g. con le tuple:**"
   ]
  },
  {
   "cell_type": "code",
   "execution_count": 11,
   "metadata": {},
   "outputs": [
    {
     "name": "stdout",
     "output_type": "stream",
     "text": [
      "b: 4\n",
      "b: 5\n",
      "b: 6\n"
     ]
    }
   ],
   "source": [
    "for b in (4, 5, 6):\n",
    "    print(f'b: {b}')"
   ]
  },
  {
   "cell_type": "markdown",
   "metadata": {},
   "source": [
    "**...Ma anche con gli insiemi!**"
   ]
  },
  {
   "cell_type": "code",
   "execution_count": 12,
   "metadata": {},
   "outputs": [
    {
     "name": "stdout",
     "output_type": "stream",
     "text": [
      "c: 8\n",
      "c: 9\n",
      "c: 7\n"
     ]
    }
   ],
   "source": [
    "for c in {7, 8, 9}:\n",
    "    print(f'c: {c}')"
   ]
  },
  {
   "cell_type": "markdown",
   "metadata": {},
   "source": [
    "* Gli insiemi sono però collezioni _non ordinate_\n",
    "* Quindi non c'è controllo sull'ordine in cui gli elementi sono considerati"
   ]
  },
  {
   "cell_type": "markdown",
   "metadata": {
    "slideshow": {
     "slide_type": "subslide"
    }
   },
   "source": [
    "## Cicli `for` in Python\n",
    "\n",
    "**Un ciclo su una collezione vuota non effettua alcuna iterazione:**"
   ]
  },
  {
   "cell_type": "code",
   "execution_count": 13,
   "metadata": {},
   "outputs": [],
   "source": [
    "for a in []:\n",
    "    print('Il blocco esegue')"
   ]
  },
  {
   "cell_type": "markdown",
   "metadata": {},
   "source": [
    "**Iterare su un dizionario equivale ad iterare sulle chiavi**"
   ]
  },
  {
   "cell_type": "code",
   "execution_count": 14,
   "metadata": {},
   "outputs": [
    {
     "name": "stdout",
     "output_type": "stream",
     "text": [
      "nome : Mario\n",
      "cognome : Rossi\n"
     ]
    }
   ],
   "source": [
    "d = {'nome': 'Mario', 'cognome': 'Rossi'}\n",
    "for k in d:\n",
    "    print(k, ':', d[k])"
   ]
  },
  {
   "cell_type": "markdown",
   "metadata": {},
   "source": [
    "* È poi possibile utilizzare la chiave\n",
    "* ...Per accedere ad un valore nel dizionario"
   ]
  },
  {
   "cell_type": "markdown",
   "metadata": {
    "slideshow": {
     "slide_type": "subslide"
    }
   },
   "source": [
    "## Cicli `for` e Variabili\n",
    "\n",
    "**Come nel caso delle istruzioni condizionali**\n",
    "\n",
    "...Ogni variabile definita nel blocco è _come se fosse definita all'esterno_:"
   ]
  },
  {
   "cell_type": "code",
   "execution_count": 15,
   "metadata": {},
   "outputs": [
    {
     "name": "stdout",
     "output_type": "stream",
     "text": [
      "c: 2\n",
      "a: 3\n"
     ]
    }
   ],
   "source": [
    "for a in [1, 2, 3]:\n",
    "    c = 2\n",
    "print(f'c: {c}')\n",
    "print(f'a: {a}')"
   ]
  },
  {
   "cell_type": "markdown",
   "metadata": {},
   "source": [
    "* Ad ogni iterazione in `c` viene inserito il valore 2\n",
    "* Alla fine _`c` è disponibile all'esterno del ciclo_\n",
    "* Anche `a` conta _come una variabile definita nel ciclo_!\n",
    "* Alla fine è disponibile all'esterno \n",
    "* ...E contiene _l'ultimo valore che le è stato assegnato_ nel ciclo"
   ]
  },
  {
   "cell_type": "markdown",
   "metadata": {
    "slideshow": {
     "slide_type": "subslide"
    }
   },
   "source": [
    "## Cicli `while` in Python\n",
    "\n",
    "**L'istruzione `while` (o ciclo `while`) in Python**\n",
    "\n",
    "...Permette di iterare _fintanto che una condizione è vera_\n",
    "\n",
    "* La sintassi è la seguente:\n",
    "\n",
    "```\n",
    "while <espressione>:\n",
    "    <blocco>\n",
    "```\n",
    "\n",
    "* Ad ogni iterazione l'espressione viene valutata\n",
    "* Se è vera, si esegue il blocco\n",
    "\n",
    "**Seppure più semplice, l'istruzione `while` è _più flessibile_ del `for`**\n",
    "\n",
    "* Nella maggior parte dei casi, un `for` è sufficiente (e consigliato)\n",
    "* ...Ma in alcuni casi di nicchia usare `while` è necessario"
   ]
  },
  {
   "cell_type": "markdown",
   "metadata": {
    "slideshow": {
     "slide_type": "subslide"
    }
   },
   "source": [
    "## Cicli `while` in Python\n",
    "\n",
    "**Caso tipico: se non è noto a priori il numero di iterazioni da effettuare** \n",
    "\n",
    "* E.g. approssimare il valore della somma di una serie geometrica\n",
    "* ...Fermandosi quando ogni modifica diventa più piccola di $10^{-20}$"
   ]
  },
  {
   "cell_type": "code",
   "execution_count": 16,
   "metadata": {},
   "outputs": [
    {
     "name": "stdout",
     "output_type": "stream",
     "text": [
      "Valore finale di s: 1.666666666666667\n",
      "Num. di iterazioni effettuate: 42\n"
     ]
    }
   ],
   "source": [
    "s, s_old = 0, -1\n",
    "r, n = 0.4, 0\n",
    "while abs(s - s_old) > 1e-20:\n",
    "    s_old = s # memorizzo il vecchio valore di s\n",
    "    s += r**n # aggiorno s\n",
    "    n += 1    # incremento n\n",
    "print(f'Valore finale di s: {s:.15f}')\n",
    "print(f'Num. di iterazioni effettuate: {n}')"
   ]
  },
  {
   "cell_type": "markdown",
   "metadata": {},
   "source": [
    "* Usiamo una variabile `s_old` per memorizzare il valore precedente della somma\n",
    "* ...E la confrontiamo con `s` per capire quando fermarci"
   ]
  },
  {
   "cell_type": "markdown",
   "metadata": {
    "slideshow": {
     "slide_type": "subslide"
    }
   },
   "source": [
    "## Cicli Infiniti\n",
    "\n",
    "**Occorre prestare attenzione a non creare cicli \"infiniti\"**\n",
    "\n",
    "...Ossia cicli in cui la condizione di proseguimento è sempre vera:"
   ]
  },
  {
   "cell_type": "code",
   "execution_count": 17,
   "metadata": {},
   "outputs": [
    {
     "ename": "KeyboardInterrupt",
     "evalue": "",
     "output_type": "error",
     "traceback": [
      "\u001b[31m---------------------------------------------------------------------------\u001b[39m",
      "\u001b[31mKeyboardInterrupt\u001b[39m                         Traceback (most recent call last)",
      "\u001b[36mCell\u001b[39m\u001b[36m \u001b[39m\u001b[32mIn[17]\u001b[39m\u001b[32m, line 3\u001b[39m\n\u001b[32m      1\u001b[39m s, s_old = \u001b[32m0\u001b[39m, -\u001b[32m1\u001b[39m\n\u001b[32m      2\u001b[39m r, n = \u001b[32m0.4\u001b[39m, \u001b[32m0\u001b[39m\n\u001b[32m----> \u001b[39m\u001b[32m3\u001b[39m \u001b[38;5;28;01mwhile\u001b[39;00m \u001b[38;5;28;43mabs\u001b[39;49m\u001b[43m(\u001b[49m\u001b[43ms\u001b[49m\u001b[43m \u001b[49m\u001b[43m-\u001b[49m\u001b[43m \u001b[49m\u001b[43ms_old\u001b[49m\u001b[43m)\u001b[49m > \u001b[32m1e-20\u001b[39m:\n\u001b[32m      4\u001b[39m     s_old = s \u001b[38;5;66;03m# memorizzo il vecchio valore di s\u001b[39;00m\n\u001b[32m      5\u001b[39m     s += r**n \u001b[38;5;66;03m# aggiorno s\u001b[39;00m\n",
      "\u001b[31mKeyboardInterrupt\u001b[39m: "
     ]
    }
   ],
   "source": [
    "s, s_old = 0, -1\n",
    "r, n = 0.4, 0\n",
    "while abs(s - s_old) > 1e-20:\n",
    "    s_old = s # memorizzo il vecchio valore di s\n",
    "    s += r**n # aggiorno s\n",
    "    #n += 1    # NOTA: \"dimentico\" di aggiornare n\n",
    "print(f'Valore finale di s: {s:.15f}')\n",
    "print(f'Num. di iterazioni effettuate: {n}')"
   ]
  },
  {
   "cell_type": "markdown",
   "metadata": {},
   "source": [
    "* Se vi capita su Jupyter, basta interrompere il kernel (pulsante \"stop\" in alto)\n",
    "* Se vi capita sul terminale, basta usare \"Ctrl + C\""
   ]
  },
  {
   "cell_type": "markdown",
   "metadata": {
    "slideshow": {
     "slide_type": "subslide"
    }
   },
   "source": [
    "## Programmazione Strutturata (e Non)\n",
    "\n",
    "Come avevamo accennato:\n",
    "\n",
    "> **Combinando istruzioni per _sequenza_, _selezione_ ed _iterazione_ è possibile esprimere qualsiasi algoritmo**\n",
    "\n",
    "Questo risultato è noto come _teorema del programma strutturato_\n",
    "\n",
    "**Detto questo a volte è _comodo_ poter fare delle eccezioni**\n",
    "\n",
    "* Per questo, Python offre istruzioni che hanno effetto sul flusso di controllo \n",
    "* ...Ma che non fanno parte della programmazione strutturata\n",
    "\n",
    "Queste sono in particolare `break` e `continue`"
   ]
  },
  {
   "cell_type": "markdown",
   "metadata": {
    "slideshow": {
     "slide_type": "subslide"
    }
   },
   "source": [
    "## Istruzione `break`\n",
    "\n",
    "**L'istruzione `break`, quando viene eseguita**\n",
    "\n",
    "...Interrompe l'istruzione di controllo di flusso corrente"
   ]
  },
  {
   "cell_type": "code",
   "execution_count": 18,
   "metadata": {},
   "outputs": [
    {
     "name": "stdout",
     "output_type": "stream",
     "text": [
      "trovato: True\n"
     ]
    }
   ],
   "source": [
    "l = [1, 5, 2, 6, 6, 8, 1]\n",
    "da_trovare = 2\n",
    "trovato = False\n",
    "for v in l:\n",
    "    if v == da_trovare:\n",
    "        trovato = True\n",
    "        break # interrompe il ciclo for\n",
    "print(f'trovato: {trovato}')"
   ]
  },
  {
   "cell_type": "markdown",
   "metadata": {},
   "source": [
    "**Questo codice cerca un elemento in una lista**\n",
    "\n",
    "* Se l'elemento viene trovato, non è necessario continuare la ricerca\n",
    "* ...E si può interrompere il ciclo con l'istruzione `break`"
   ]
  },
  {
   "cell_type": "markdown",
   "metadata": {
    "slideshow": {
     "slide_type": "subslide"
    }
   },
   "source": [
    "## Istruzione `break`\n",
    "\n",
    "**L'istruzione `break`, quando viene eseguita**\n",
    "\n",
    "...Interrompe l'istruzione di controllo di flusso corrente"
   ]
  },
  {
   "cell_type": "code",
   "execution_count": 19,
   "metadata": {},
   "outputs": [
    {
     "name": "stdout",
     "output_type": "stream",
     "text": [
      "trovato: True\n"
     ]
    }
   ],
   "source": [
    "l = [1, 5, 2, 6, 6, 8, 1]\n",
    "da_trovare = 2\n",
    "trovato = False\n",
    "for v in l:\n",
    "    if v == da_trovare:\n",
    "        trovato = True\n",
    "print(f'trovato: {trovato}')"
   ]
  },
  {
   "cell_type": "markdown",
   "metadata": {},
   "source": [
    "**Se il break viene omesso (come sopra)**\n",
    "\n",
    "* Tutto funziona perfettamente\n",
    "* ...Ma il codice è un po' più inefficiente"
   ]
  },
  {
   "cell_type": "markdown",
   "metadata": {
    "slideshow": {
     "slide_type": "subslide"
    }
   },
   "source": [
    "## Istruzione `continue`\n",
    "\n",
    "**L'istruzione `continue`, quando viene eseguita _in un ciclo_**\n",
    "\n",
    "...Salta immediatemente all'iterazione successiva"
   ]
  },
  {
   "cell_type": "code",
   "execution_count": 20,
   "metadata": {},
   "outputs": [
    {
     "name": "stdout",
     "output_type": "stream",
     "text": [
      "Il massimo dei valori pari è: 8\n"
     ]
    }
   ],
   "source": [
    "l = [1, 5, 2, 6, 6, 8, 11]\n",
    "massimo_pari = None\n",
    "for v in l:\n",
    "    if v % 2 == 1: # \"salto\" i numeri dispari\n",
    "        continue\n",
    "    if massimo_pari == None or massimo_pari < v:\n",
    "        massimo_pari = v\n",
    "print(f'Il massimo dei valori pari è: {massimo_pari}')"
   ]
  },
  {
   "cell_type": "markdown",
   "metadata": {},
   "source": [
    "**Questo codice trova il massimo dei numeri pari in una lista**\n",
    "\n",
    "* Se il numero corrente è dispari, viene eseguita una `continue`\n",
    "* ...E l'esecuzione salta immediatamente all'iterazione successiva"
   ]
  },
  {
   "cell_type": "markdown",
   "metadata": {
    "slideshow": {
     "slide_type": "subslide"
    }
   },
   "source": [
    "## Istruzione `continue`\n",
    "\n",
    "**L'istruzione `continue`, quando viene eseguita _in un ciclo_**\n",
    "\n",
    "...Salta immediatemente all'iterazione successiva"
   ]
  },
  {
   "cell_type": "code",
   "execution_count": 21,
   "metadata": {},
   "outputs": [
    {
     "name": "stdout",
     "output_type": "stream",
     "text": [
      "Il massimo dei valori pari è: 8\n"
     ]
    }
   ],
   "source": [
    "l = [1, 5, 2, 6, 6, 8, 1]\n",
    "massimo_pari = None\n",
    "for v in l:\n",
    "    if v % 2 == 0: # considero solo i valori pari\n",
    "        if massimo_pari == None or massimo_pari < v:\n",
    "            massimo_pari = v\n",
    "print(f'Il massimo dei valori pari è: {massimo_pari}')"
   ]
  },
  {
   "cell_type": "markdown",
   "metadata": {},
   "source": [
    "**Senza `continue` (come sopra)**\n",
    "\n",
    "* Si può ottenere lo stesso effetto usando un `if`\n",
    "* ...Ma il codice diventa più innestato (e quindi un po' meno leggibile)"
   ]
  }
 ],
 "metadata": {
  "celltoolbar": "Slideshow",
  "kernelspec": {
   "display_name": "Python 3 (ipykernel)",
   "language": "python",
   "name": "python3"
  },
  "language_info": {
   "codemirror_mode": {
    "name": "ipython",
    "version": 3
   },
   "file_extension": ".py",
   "mimetype": "text/x-python",
   "name": "python",
   "nbconvert_exporter": "python",
   "pygments_lexer": "ipython3",
   "version": "3.11.11"
  },
  "rise": {
   "center": false,
   "enable_chalkboard": true,
   "transition": "fade"
  }
 },
 "nbformat": 4,
 "nbformat_minor": 4
}
