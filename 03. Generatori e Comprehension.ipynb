{
 "cells": [
  {
   "cell_type": "markdown",
   "metadata": {
    "slideshow": {
     "slide_type": "slide"
    }
   },
   "source": [
    "# Generatori"
   ]
  },
  {
   "cell_type": "markdown",
   "metadata": {
    "slideshow": {
     "slide_type": "subslide"
    }
   },
   "source": [
    "## Generatori\n",
    "\n",
    "**Supponiamo di voler iterare su una sequenza crescente di interi**"
   ]
  },
  {
   "cell_type": "code",
   "execution_count": 4,
   "metadata": {},
   "outputs": [
    {
     "name": "stdout",
     "output_type": "stream",
     "text": [
      "0\n",
      "1\n",
      "2\n",
      "3\n"
     ]
    }
   ],
   "source": [
    "for i in [0, 1, 2, 3]:\n",
    "    print(i)"
   ]
  },
  {
   "cell_type": "markdown",
   "metadata": {},
   "source": [
    "* Per poter iterare sulla sequenza, siamo prima costretti a costruirla\n",
    "* ...Questo richiede tempo e (soprattuto) _memoria_\n",
    "\n",
    "È inefficiente: sarebbe meglio  _\"generare\" i numeri uno alla volta_, quando servono\n",
    "\n",
    "**In Python, si può fare utilizzando un _generatore_ (generator expression)**\n",
    "\n",
    "...Purché la sequenza su cui iterare rientri in alcuni casi particolari\n",
    "\n",
    "* Generatori e collezioni a volte vengono chiamati _\"iterabili\"_"
   ]
  },
  {
   "cell_type": "markdown",
   "metadata": {
    "slideshow": {
     "slide_type": "subslide"
    }
   },
   "source": [
    "## Generatore `range`\n",
    "\n",
    "**Il generatore `range` permette di iterare su una sequenza di interi**"
   ]
  },
  {
   "cell_type": "code",
   "execution_count": 7,
   "metadata": {},
   "outputs": [
    {
     "name": "stdout",
     "output_type": "stream",
     "text": [
      "0\n",
      "1\n",
      "2\n",
      "3\n"
     ]
    }
   ],
   "source": [
    "for i in range(4):\n",
    "    print(i)"
   ]
  },
  {
   "cell_type": "markdown",
   "metadata": {},
   "source": [
    "Se invocato con `range(n)`, il generatore:\n",
    "\n",
    "* Restituisce progressivamente i numeri da `0` a `n-1`"
   ]
  },
  {
   "cell_type": "markdown",
   "metadata": {
    "slideshow": {
     "slide_type": "subslide"
    }
   },
   "source": [
    "## Generatore `range`\n",
    "\n",
    "**Il generatore `range` permette di iterare su una sequenza di interi**"
   ]
  },
  {
   "cell_type": "code",
   "execution_count": 8,
   "metadata": {},
   "outputs": [
    {
     "name": "stdout",
     "output_type": "stream",
     "text": [
      "1\n",
      "2\n",
      "3\n"
     ]
    }
   ],
   "source": [
    "for i in range(1, 4):\n",
    "    print(i)"
   ]
  },
  {
   "cell_type": "markdown",
   "metadata": {},
   "source": [
    "Se invocato con `range(n1, n2)`, il generatore:\n",
    "\n",
    "* Restituisce progressivamente i numeri da `n1` a `n2-1`"
   ]
  },
  {
   "cell_type": "markdown",
   "metadata": {
    "slideshow": {
     "slide_type": "subslide"
    }
   },
   "source": [
    "## Generatore `range`\n",
    "\n",
    "**Il generatore `range` permette di iterare su una sequenza di interi**"
   ]
  },
  {
   "cell_type": "code",
   "execution_count": 10,
   "metadata": {},
   "outputs": [
    {
     "name": "stdout",
     "output_type": "stream",
     "text": [
      "0\n",
      "2\n"
     ]
    }
   ],
   "source": [
    "for i in range(0, 4, 2):\n",
    "    print(i)"
   ]
  },
  {
   "cell_type": "markdown",
   "metadata": {},
   "source": [
    "Se invocato con `range(n1, n2, step)`, il generatore:\n",
    "\n",
    "* Restituisce progressivamente i numeri da `n1` a `n2-1`\n",
    "* ...Con passo `step` (un po' come per gli slice)"
   ]
  },
  {
   "cell_type": "markdown",
   "metadata": {
    "slideshow": {
     "slide_type": "subslide"
    }
   },
   "source": [
    "## Una Parentesi: Help in Linea\n",
    "\n",
    "**`range` è un esempio di funzione che può essere chiamata in più modi**\n",
    "\n",
    "In Python ce ne sono diverse!\n",
    "\n",
    "* Se avete dubbi su come usarle potete cercare su Google\n",
    "* ...Oppure usare il sistema di aiuto di Jupyter\n",
    "\n",
    "**Potete attivarlo in (almeno) due modi:**\n",
    "\n",
    "* Aggiungere `??` dopo il nome della funzione, quindi \"eseguirla\""
   ]
  },
  {
   "cell_type": "code",
   "execution_count": 16,
   "metadata": {},
   "outputs": [],
   "source": [
    "range??"
   ]
  },
  {
   "cell_type": "markdown",
   "metadata": {},
   "source": [
    "* Usare la funzione `help()`:"
   ]
  },
  {
   "cell_type": "code",
   "execution_count": 6,
   "metadata": {},
   "outputs": [
    {
     "name": "stdout",
     "output_type": "stream",
     "text": [
      "Help on class range in module builtins:\n",
      "\n",
      "class range(object)\n",
      " |  range(stop) -> range object\n",
      " |  range(start, stop[, step]) -> range object\n",
      " |  \n",
      " |  Return an object that produces a sequence of integers from start (inclusive)\n",
      " |  to stop (exclusive) by step.  range(i, j) produces i, i+1, i+2, ..., j-1.\n",
      " |  start defaults to 0, and stop is omitted!  range(4) produces 0, 1, 2, 3.\n",
      " |  These are exactly the valid indices for a list of 4 elements.\n",
      " |  When step is given, it specifies the increment (or decrement).\n",
      " |  \n",
      " |  Methods defined here:\n",
      " |  \n",
      " |  __bool__(self, /)\n",
      " |      True if self else False\n",
      " |  \n",
      " |  __contains__(self, key, /)\n",
      " |      Return key in self.\n",
      " |  \n",
      " |  __eq__(self, value, /)\n",
      " |      Return self==value.\n",
      " |  \n",
      " |  __ge__(self, value, /)\n",
      " |      Return self>=value.\n",
      " |  \n",
      " |  __getattribute__(self, name, /)\n",
      " |      Return getattr(self, name).\n",
      " |  \n",
      " |  __getitem__(self, key, /)\n",
      " |      Return self[key].\n",
      " |  \n",
      " |  __gt__(self, value, /)\n",
      " |      Return self>value.\n",
      " |  \n",
      " |  __hash__(self, /)\n",
      " |      Return hash(self).\n",
      " |  \n",
      " |  __iter__(self, /)\n",
      " |      Implement iter(self).\n",
      " |  \n",
      " |  __le__(self, value, /)\n",
      " |      Return self<=value.\n",
      " |  \n",
      " |  __len__(self, /)\n",
      " |      Return len(self).\n",
      " |  \n",
      " |  __lt__(self, value, /)\n",
      " |      Return self<value.\n",
      " |  \n",
      " |  __ne__(self, value, /)\n",
      " |      Return self!=value.\n",
      " |  \n",
      " |  __reduce__(...)\n",
      " |      Helper for pickle.\n",
      " |  \n",
      " |  __repr__(self, /)\n",
      " |      Return repr(self).\n",
      " |  \n",
      " |  __reversed__(...)\n",
      " |      Return a reverse iterator.\n",
      " |  \n",
      " |  count(...)\n",
      " |      rangeobject.count(value) -> integer -- return number of occurrences of value\n",
      " |  \n",
      " |  index(...)\n",
      " |      rangeobject.index(value) -> integer -- return index of value.\n",
      " |      Raise ValueError if the value is not present.\n",
      " |  \n",
      " |  ----------------------------------------------------------------------\n",
      " |  Static methods defined here:\n",
      " |  \n",
      " |  __new__(*args, **kwargs)\n",
      " |      Create and return a new object.  See help(type) for accurate signature.\n",
      " |  \n",
      " |  ----------------------------------------------------------------------\n",
      " |  Data descriptors defined here:\n",
      " |  \n",
      " |  start\n",
      " |  \n",
      " |  step\n",
      " |  \n",
      " |  stop\n",
      "\n"
     ]
    }
   ],
   "source": [
    "help('range')"
   ]
  },
  {
   "cell_type": "markdown",
   "metadata": {
    "slideshow": {
     "slide_type": "subslide"
    }
   },
   "source": [
    "## Generatore `enumerate`\n",
    "\n",
    "**Il generatore `enumerate` in Python permette di iterare su una collezione**\n",
    "\n",
    "...E disporre contemporaneamente dell'indice dell'elemento corrente"
   ]
  },
  {
   "cell_type": "code",
   "execution_count": 24,
   "metadata": {},
   "outputs": [
    {
     "name": "stdout",
     "output_type": "stream",
     "text": [
      "Voto di Marco: 28\n",
      "Voto di Lucia: 30\n",
      "Voto di Gianni: 25\n"
     ]
    }
   ],
   "source": [
    "nomi = ['Marco', 'Lucia', 'Gianni']\n",
    "voti = [28, 30, 25]\n",
    "for i, nome in enumerate(nomi):\n",
    "    print(f'Voto di {nome}: {voti[i]}')"
   ]
  },
  {
   "cell_type": "markdown",
   "metadata": {},
   "source": [
    "**Invocato con `enumerate(<iterabile>)`, il generatore:**\n",
    "\n",
    "* Restituisce progressivamente delle tuple\n",
    "* Il primo di ogni elemento di ogni tuple è l'indice, il secondo il valore\n",
    "\n",
    "Di solito si usa tuple unpacking per separarli"
   ]
  },
  {
   "cell_type": "markdown",
   "metadata": {
    "slideshow": {
     "slide_type": "subslide"
    }
   },
   "source": [
    "## Generatore `zip`\n",
    "\n",
    "**Il generatore `zip` in Python**\n",
    "\n",
    "...permette di iterare su due collezioni contemporaneamente"
   ]
  },
  {
   "cell_type": "code",
   "execution_count": 25,
   "metadata": {},
   "outputs": [
    {
     "name": "stdout",
     "output_type": "stream",
     "text": [
      "Voto di Marco: 28\n",
      "Voto di Lucia: 30\n",
      "Voto di Gianni: 25\n"
     ]
    }
   ],
   "source": [
    "nomi = ['Marco', 'Lucia', 'Gianni']\n",
    "voti = [28, 30, 25]\n",
    "for nome, voto in zip(nomi, voti):\n",
    "    print(f'Voto di {nome}: {voto}')"
   ]
  },
  {
   "cell_type": "markdown",
   "metadata": {},
   "source": [
    "**Invocato con `zip(<iterabile>, <iterabile>, ...)`, il generatore:**\n",
    "\n",
    "* Restituisce progressivamente delle tuple\n",
    "* Il primo di elemento viene della prima collezione, il secondo dalla seconda, etc.\n",
    "\n",
    "Di solito si usa tuple unpacking per separarli"
   ]
  },
  {
   "cell_type": "markdown",
   "metadata": {
    "slideshow": {
     "slide_type": "slide"
    }
   },
   "source": [
    "\n",
    "# Comprehension"
   ]
  },
  {
   "cell_type": "markdown",
   "metadata": {
    "slideshow": {
     "slide_type": "subslide"
    }
   },
   "source": [
    "## List Comprehension\n",
    "\n",
    "**Python fornisce una notazione compatta**\n",
    "\n",
    "...Per ottenere una collezione a partire da un altro iterabile\n",
    "\n",
    "* La notazione si chiama _comprehension_ e ve ne sono diversi tipi\n",
    "* In particolare: list/tuple/set/dictionary comprehension\n",
    "\n",
    "**Per le _list comprehension_, la sintassi base è:**\n",
    "\n",
    "```\n",
    "[<espr.> for <var> in <iterabile>]\n",
    "```\n",
    "\n",
    "* Costruisce una lista facendo iterare `<var>` su `<iterabile>`\n",
    "* ...E valutando `<espr.>` ad ogni passo"
   ]
  },
  {
   "cell_type": "markdown",
   "metadata": {
    "slideshow": {
     "slide_type": "subslide"
    }
   },
   "source": [
    "## List Comprehension\n",
    "\n",
    "**Vediamo qualche esempio**\n",
    "\n",
    "Lista delle potenze di $2$, da $2^0$ a $2^{10}$:"
   ]
  },
  {
   "cell_type": "code",
   "execution_count": 9,
   "metadata": {},
   "outputs": [
    {
     "data": {
      "text/plain": [
       "[1, 2, 4, 8, 16, 32, 64, 128, 256, 512, 1024]"
      ]
     },
     "execution_count": 9,
     "metadata": {},
     "output_type": "execute_result"
    }
   ],
   "source": [
    "[2**n for n in range(11)]"
   ]
  },
  {
   "cell_type": "markdown",
   "metadata": {},
   "source": [
    "* La variabile `n` itera su `range(11)`\n",
    "* Ad ogni iterazione, nella lista risulato si inserisce `2**n`\n",
    "\n",
    "Un altro esempio: lista dei quadrati dei naturali da 1 a 9:"
   ]
  },
  {
   "cell_type": "code",
   "execution_count": 10,
   "metadata": {},
   "outputs": [
    {
     "data": {
      "text/plain": [
       "[1, 4, 9, 16, 25, 36, 49, 64, 81]"
      ]
     },
     "execution_count": 10,
     "metadata": {},
     "output_type": "execute_result"
    }
   ],
   "source": [
    "[n*n for n in range(1, 10)]"
   ]
  },
  {
   "cell_type": "markdown",
   "metadata": {
    "slideshow": {
     "slide_type": "subslide"
    }
   },
   "source": [
    "## List Comprehension\n",
    "\n",
    "**Si può specificare una _condizione_ perché l'espressione sia valutata**\n",
    "\n",
    "La sintassi in questo caso è:\n",
    "\n",
    "```\n",
    "[<espr.> for <var> in <iterabile> if <condizione>]\n",
    "```\n",
    "\n",
    "**Vediamo un paio di esempi**\n",
    "\n",
    "Quadrati nei numeri pari fino a 10:"
   ]
  },
  {
   "cell_type": "code",
   "execution_count": 11,
   "metadata": {},
   "outputs": [
    {
     "data": {
      "text/plain": [
       "[0, 4, 16, 36, 64, 100]"
      ]
     },
     "execution_count": 11,
     "metadata": {},
     "output_type": "execute_result"
    }
   ],
   "source": [
    "[n*n for n in range(11) if n % 2 == 0]"
   ]
  },
  {
   "cell_type": "markdown",
   "metadata": {},
   "source": [
    "Lista dei valori negativi da una lista preesistente:"
   ]
  },
  {
   "cell_type": "code",
   "execution_count": 12,
   "metadata": {},
   "outputs": [
    {
     "data": {
      "text/plain": [
       "[-2, -7, -1]"
      ]
     },
     "execution_count": 12,
     "metadata": {},
     "output_type": "execute_result"
    }
   ],
   "source": [
    "l = [-2, 0, 4, -7, -1, 10, 21]\n",
    "[v for v in l if v < 0]"
   ]
  },
  {
   "cell_type": "markdown",
   "metadata": {
    "slideshow": {
     "slide_type": "subslide"
    }
   },
   "source": [
    "## Set e Dictionary Comprehension\n",
    "\n",
    "**Si usa lo stesso approccio per gli _insiemi_**\n",
    "\n",
    "...Semplicemente si usano le parentesi graffe:"
   ]
  },
  {
   "cell_type": "code",
   "execution_count": 13,
   "metadata": {},
   "outputs": [
    {
     "data": {
      "text/plain": [
       "{0, 2, 4, 6, 8, 10, 12, 14, 16, 18}"
      ]
     },
     "execution_count": 13,
     "metadata": {},
     "output_type": "execute_result"
    }
   ],
   "source": [
    "{2*v for v in range(10)}"
   ]
  },
  {
   "cell_type": "markdown",
   "metadata": {},
   "source": [
    "**Nel caso dei _dizionari_, si devono specificare sia la chiave che il valore**\n",
    "\n",
    "Nella sintassi, si sostituisce `<expr>` con `<chiave>:<expr>`:"
   ]
  },
  {
   "cell_type": "code",
   "execution_count": 14,
   "metadata": {},
   "outputs": [
    {
     "data": {
      "text/plain": [
       "{0: 0, 1: 1, 2: 4, 3: 9, 4: 16, 5: 25}"
      ]
     },
     "execution_count": 14,
     "metadata": {},
     "output_type": "execute_result"
    }
   ],
   "source": [
    "{n: n**2 for n in range(6)}"
   ]
  },
  {
   "cell_type": "markdown",
   "metadata": {},
   "source": [
    "* Si usano le parentesi graffe, come per gli insiemi\n",
    "* Ma si riconoscono per la presenza sia della chiave che del valore"
   ]
  },
  {
   "cell_type": "markdown",
   "metadata": {
    "slideshow": {
     "slide_type": "subslide"
    }
   },
   "source": [
    "## Tuple Comprehension\n",
    "\n",
    "**Il caso delle tuple comprehension è un filo più complesso**\n",
    "\n",
    "La sintassi:\n",
    "\n",
    "```\n",
    "(<espr.> for <var> in <iterabile> if <condizione>])\n",
    "```\n",
    "\n",
    "...Non definisce una tuple comprehension, ma un _generatore_:"
   ]
  },
  {
   "cell_type": "code",
   "execution_count": 15,
   "metadata": {},
   "outputs": [
    {
     "data": {
      "text/plain": [
       "<generator object <genexpr> at 0x111888040>"
      ]
     },
     "execution_count": 15,
     "metadata": {},
     "output_type": "execute_result"
    }
   ],
   "source": [
    "(2*n for n in range(11))"
   ]
  },
  {
   "cell_type": "markdown",
   "metadata": {},
   "source": [
    "* In questo modo si ottengono gli stessi benefici di una comprehension\n",
    "* ...Ma con un minore utilizzo di memoria"
   ]
  },
  {
   "cell_type": "markdown",
   "metadata": {
    "slideshow": {
     "slide_type": "subslide"
    }
   },
   "source": [
    "## Tuple Comprehension\n",
    "\n",
    "**Se è necessario ottenere una collezione**\n",
    "\n",
    "...Si può passare il generatore come argomento al costruttore di tuple:"
   ]
  },
  {
   "cell_type": "code",
   "execution_count": 16,
   "metadata": {},
   "outputs": [
    {
     "data": {
      "text/plain": [
       "(0, 2, 4, 6, 8, 10, 12, 14, 16, 18, 20)"
      ]
     },
     "execution_count": 16,
     "metadata": {},
     "output_type": "execute_result"
    }
   ],
   "source": [
    "tuple((2*n for n in range(11)))"
   ]
  },
  {
   "cell_type": "markdown",
   "metadata": {},
   "source": [
    "* In generale, se una funzione può accettare come argomento una collezione\n",
    "* ...Si può passare come argomento anche un generatore\n",
    "\n",
    "**In questo caso le parentesi interne possono essere omesse:**"
   ]
  },
  {
   "cell_type": "code",
   "execution_count": 17,
   "metadata": {},
   "outputs": [
    {
     "data": {
      "text/plain": [
       "(0, 2, 4, 6, 8, 10, 12, 14, 16, 18, 20)"
      ]
     },
     "execution_count": 17,
     "metadata": {},
     "output_type": "execute_result"
    }
   ],
   "source": [
    "tuple(2*n for n in range(11))"
   ]
  }
 ],
 "metadata": {
  "celltoolbar": "Slideshow",
  "kernelspec": {
   "display_name": "Python 3 (ipykernel)",
   "language": "python",
   "name": "python3"
  },
  "language_info": {
   "codemirror_mode": {
    "name": "ipython",
    "version": 3
   },
   "file_extension": ".py",
   "mimetype": "text/x-python",
   "name": "python",
   "nbconvert_exporter": "python",
   "pygments_lexer": "ipython3",
   "version": "3.11.11"
  },
  "rise": {
   "center": false,
   "enable_chalkboard": true,
   "transition": "fade"
  }
 },
 "nbformat": 4,
 "nbformat_minor": 4
}
