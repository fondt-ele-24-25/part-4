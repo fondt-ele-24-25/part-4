{
 "cells": [
  {
   "cell_type": "markdown",
   "metadata": {
    "slideshow": {
     "slide_type": "subslide"
    }
   },
   "source": [
    "## Esempio: Zeta di Riemann\n",
    "\n",
    "**Supponiamo di voler iterare la funzione zeta di Riemann per valori reali**\n",
    "\n",
    "La funzione è definita dalla sommatoria:\n",
    "\n",
    "$$\n",
    "\\zeta(s) = \\sum_{n = 1}^\\infty \\frac{1}{n^s}\n",
    "$$\n",
    "\n",
    "...Con $s \\in \\mathbb{R}$ e $s > 1$\n",
    "\n",
    "* Si desidera calcolarne il valore in modo approssimato\n",
    "* Il calcolo deve terminare dopo 1000 iterazioni\n",
    "* ...Oppure quando il termine $1 / n^s$ diventi più piccolo di $10^{-9}$\n",
    "\n",
    "**Si scriva un programma che risolve l'esercizio**\n",
    "\n",
    "* Il codice deve essere contenuto in un'unica cella\n",
    "* Si facciano esperimenti con diversi valori (validi) di $s > 1$"
   ]
  },
  {
   "cell_type": "markdown",
   "metadata": {
    "slideshow": {
     "slide_type": "subslide"
    }
   },
   "source": [
    "## Esempio: Zeta di Riemann\n",
    "\n",
    "**Quando si deve sviluppare un algoritmo**\n",
    "\n",
    "...Può essere una buona idea abbozzarlo usando dei commenti e valori \"finti\":"
   ]
  },
  {
   "cell_type": "code",
   "execution_count": 2,
   "metadata": {},
   "outputs": [],
   "source": [
    "# valore di ingresso\n",
    "s = None # deve essere maggiore di 1\n",
    "z = 0 # valore di partenza per il risultato\n",
    "for n in []: # interi da 1 a 1000\n",
    "    # calcolo 1 / n^s\n",
    "    if True: # è necessario fermarsi\n",
    "        break # interrompo il ciclo\n",
    "    # aggiorno z\n",
    "# a questo punto il risultato è disponibile"
   ]
  },
  {
   "cell_type": "markdown",
   "metadata": {},
   "source": [
    "* Questo processo aiuta a ragionare\n",
    "* ...Senza perdersi nei dettagli dell'implementazione\n",
    "\n",
    "Come bonus, il codice è più leggibile grazie ai commenti!"
   ]
  },
  {
   "cell_type": "markdown",
   "metadata": {
    "slideshow": {
     "slide_type": "subslide"
    }
   },
   "source": [
    "## Esempio: Zeta di Riemann\n",
    "\n",
    "**Sull'importanza dei commenti**\n",
    "\n",
    "* Non dimenticate mai che un giorno uno sviluppatore\n",
    "* ...Trovò questo commenti nel suo codice\n",
    "\n",
    "> <i>When I wrote this, only God and I knew what I was doing</i><br/><i>Now, God only knows</i>"
   ]
  },
  {
   "cell_type": "markdown",
   "metadata": {
    "slideshow": {
     "slide_type": "subslide"
    }
   },
   "source": [
    "## Esempio: Zeta di Riemann\n",
    "\n",
    "**Di seguito una possibile soluzione**"
   ]
  },
  {
   "cell_type": "code",
   "execution_count": 3,
   "metadata": {},
   "outputs": [
    {
     "name": "stdout",
     "output_type": "stream",
     "text": [
      "zeta(2) ~= 1.643934567\n"
     ]
    }
   ],
   "source": [
    "# valore di ingresso\n",
    "s = 2 # deve essere maggiore di 1\n",
    "z = 0 # valore di partenza per il risultato\n",
    "for n in range(1, 1000+1): # interi da 1 a 1000\n",
    "    val = 1 / n**s # calcolo 1 / n^s\n",
    "    if val < 1e-9: # è necessario fermarsi\n",
    "        break # interrompo il ciclo\n",
    "    # aggiorno s\n",
    "    z += val\n",
    "# a questo punto il risultato è disponibile\n",
    "print(f'zeta({s}) ~= {z:.9f}')"
   ]
  }
 ],
 "metadata": {
  "celltoolbar": "Slideshow",
  "kernelspec": {
   "display_name": "Python 3 (ipykernel)",
   "language": "python",
   "name": "python3"
  },
  "language_info": {
   "codemirror_mode": {
    "name": "ipython",
    "version": 3
   },
   "file_extension": ".py",
   "mimetype": "text/x-python",
   "name": "python",
   "nbconvert_exporter": "python",
   "pygments_lexer": "ipython3",
   "version": "3.11.11"
  },
  "rise": {
   "center": false,
   "enable_chalkboard": true,
   "transition": "fade"
  }
 },
 "nbformat": 4,
 "nbformat_minor": 4
}
