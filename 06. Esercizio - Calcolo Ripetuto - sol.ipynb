{
 "cells": [
  {
   "cell_type": "markdown",
   "metadata": {
    "slideshow": {
     "slide_type": "subslide"
    }
   },
   "source": [
    "## Esercizio: Calcolo Ripetuto\n",
    "\n",
    "**Utilizzando un ciclo, si calcoli il valore della seguente espressione:**\n",
    "\n",
    "$$\n",
    "f(x) = 0.5 x^2 - 2 x + 1\n",
    "$$\n",
    "\n",
    "Per $x = \\{-2, 1, 0, 1, \\ldots, 9\\}$\n",
    "\n",
    "* Si stampi a video il valore nella forma \"f(...) = ...\"\n",
    "* Il codice deve essere contenuto in un'unica cella"
   ]
  },
  {
   "cell_type": "markdown",
   "metadata": {
    "slideshow": {
     "slide_type": "subslide"
    }
   },
   "source": [
    "## Esercizio: Calcolo Ripetuto\n",
    "\n",
    "**Di seguito una possibile soluzione**"
   ]
  },
  {
   "cell_type": "code",
   "execution_count": 1,
   "metadata": {},
   "outputs": [
    {
     "name": "stdout",
     "output_type": "stream",
     "text": [
      "f(-2) = 7.0\n",
      "f(-1) = 3.5\n",
      "f(0) = 1.0\n",
      "f(1) = -0.5\n",
      "f(2) = -1.0\n",
      "f(3) = -0.5\n",
      "f(4) = 1.0\n",
      "f(5) = 3.5\n",
      "f(6) = 7.0\n",
      "f(7) = 11.5\n",
      "f(8) = 17.0\n",
      "f(9) = 23.5\n"
     ]
    }
   ],
   "source": [
    "# Considero i valori di x\n",
    "for x in range(-2, 10):\n",
    "    val = 0.5 * x**2 - 2 * x + 1\n",
    "    print(f\"f({x}) = {val}\")"
   ]
  }
 ],
 "metadata": {
  "celltoolbar": "Slideshow",
  "kernelspec": {
   "display_name": "Python 3 (ipykernel)",
   "language": "python",
   "name": "python3"
  },
  "language_info": {
   "codemirror_mode": {
    "name": "ipython",
    "version": 3
   },
   "file_extension": ".py",
   "mimetype": "text/x-python",
   "name": "python",
   "nbconvert_exporter": "python",
   "pygments_lexer": "ipython3",
   "version": "3.11.11"
  },
  "rise": {
   "center": false,
   "enable_chalkboard": true,
   "transition": "fade"
  }
 },
 "nbformat": 4,
 "nbformat_minor": 4
}
