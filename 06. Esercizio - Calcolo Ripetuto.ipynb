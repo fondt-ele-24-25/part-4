{
 "cells": [
  {
   "cell_type": "markdown",
   "metadata": {
    "slideshow": {
     "slide_type": "subslide"
    }
   },
   "source": [
    "## Esercizio: Calcolo Ripetuto\n",
    "\n",
    "**Utilizzando un ciclo, si calcoli il valore della seguente espressione:**\n",
    "\n",
    "$$\n",
    "f(x) = 0.5 x^2 - 2 x + 1\n",
    "$$\n",
    "\n",
    "Per $x = \\{-2, -1, 0, 1, \\ldots, 9\\}$\n",
    "\n",
    "* Si stampi a video il valore nella forma \"f(...) = ...\"\n",
    "* Il codice deve essere contenuto in un'unica cella"
   ]
  },
  {
   "cell_type": "code",
   "execution_count": null,
   "metadata": {},
   "outputs": [],
   "source": []
  }
 ],
 "metadata": {
  "celltoolbar": "Slideshow",
  "kernelspec": {
   "display_name": "Python 3 (ipykernel)",
   "language": "python",
   "name": "python3"
  },
  "language_info": {
   "codemirror_mode": {
    "name": "ipython",
    "version": 3
   },
   "file_extension": ".py",
   "mimetype": "text/x-python",
   "name": "python",
   "nbconvert_exporter": "python",
   "pygments_lexer": "ipython3",
   "version": "3.11.8"
  },
  "rise": {
   "center": false,
   "enable_chalkboard": true,
   "transition": "fade"
  }
 },
 "nbformat": 4,
 "nbformat_minor": 4
}
