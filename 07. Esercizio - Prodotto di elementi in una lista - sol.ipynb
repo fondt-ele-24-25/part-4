{
 "cells": [
  {
   "cell_type": "markdown",
   "metadata": {
    "slideshow": {
     "slide_type": "subslide"
    }
   },
   "source": [
    "## Esercizio: Prodotto di Elementi in una Lista\n",
    "\n",
    "**Dala una lista $v$, si calcoli il prodotto dei suoi elementi:**\n",
    "\n",
    "$$\n",
    "y = \\prod_{i=0}^n V_i\n",
    "$$\n",
    "\n",
    "* Il codice deve essere contenuto in un'unica cella\n",
    "* Si facciano esperimenti con diverse liste"
   ]
  },
  {
   "cell_type": "markdown",
   "metadata": {
    "slideshow": {
     "slide_type": "subslide"
    }
   },
   "source": [
    "## Esercizio: Prodotto di Elementi in una Lista\n",
    "\n",
    "**Di seguito una possibile soluzione**"
   ]
  },
  {
   "cell_type": "code",
   "execution_count": 1,
   "metadata": {},
   "outputs": [
    {
     "name": "stdout",
     "output_type": "stream",
     "text": [
      "Il prodotto è: 12.0\n"
     ]
    }
   ],
   "source": [
    "V = [-1, 1, 0.5, 4, -2, 3]\n",
    "\n",
    "# Preparo una variabile per il risultato\n",
    "res = 1\n",
    "# Considero i valori della lista\n",
    "for v in V:\n",
    "    res *= v\n",
    "\n",
    "print(f\"Il prodotto è: {res}\")"
   ]
  }
 ],
 "metadata": {
  "celltoolbar": "Slideshow",
  "kernelspec": {
   "display_name": "Python 3 (ipykernel)",
   "language": "python",
   "name": "python3"
  },
  "language_info": {
   "codemirror_mode": {
    "name": "ipython",
    "version": 3
   },
   "file_extension": ".py",
   "mimetype": "text/x-python",
   "name": "python",
   "nbconvert_exporter": "python",
   "pygments_lexer": "ipython3",
   "version": "3.11.11"
  },
  "rise": {
   "center": false,
   "enable_chalkboard": true,
   "transition": "fade"
  }
 },
 "nbformat": 4,
 "nbformat_minor": 4
}
