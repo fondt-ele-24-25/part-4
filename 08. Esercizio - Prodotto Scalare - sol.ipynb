{
 "cells": [
  {
   "cell_type": "markdown",
   "metadata": {
    "slideshow": {
     "slide_type": "subslide"
    }
   },
   "source": [
    "## Esercizio: Prodotto Scalare\n",
    "\n",
    "**Si calcoli il prodotto scalare di due liste**\n",
    "\n",
    "$$\n",
    "\\sum_{i = 0}^{n-1} a_i b_i\n",
    "$$\n",
    "\n",
    "* Il codice deve essere contenuto in un'unica cella\n",
    "* Si provi ad impostare il codice utilizzando il generatore `zip`\n",
    "* Si effettuino esperimenti con diverse liste"
   ]
  },
  {
   "cell_type": "markdown",
   "metadata": {
    "slideshow": {
     "slide_type": "subslide"
    }
   },
   "source": [
    "## Esercizio: Prodotto Scalare\n",
    "\n",
    "**Di seguito una possibile soluzione**"
   ]
  },
  {
   "cell_type": "code",
   "execution_count": 1,
   "metadata": {},
   "outputs": [
    {
     "name": "stdout",
     "output_type": "stream",
     "text": [
      "prodotto scalare = 6.000\n"
     ]
    }
   ],
   "source": [
    "# Dati del problema\n",
    "l1 = [2, 3, 6, 1]\n",
    "l2 = [-1, 2, 1, -4]\n",
    "\n",
    "res = 0 # valore di partenza per la somma\n",
    "for a, b in zip(l1, l2):\n",
    "    # aggiorno res\n",
    "    res += a * b\n",
    "    \n",
    "print(f'prodotto scalare = {res:.3f}')"
   ]
  },
  {
   "cell_type": "markdown",
   "metadata": {},
   "source": [
    "Una alternative, utilizzando le comprehension:"
   ]
  },
  {
   "cell_type": "code",
   "execution_count": 2,
   "metadata": {},
   "outputs": [
    {
     "name": "stdout",
     "output_type": "stream",
     "text": [
      "prodotto scalare = 6.000\n"
     ]
    }
   ],
   "source": [
    "# Dati del problema\n",
    "l1 = [2, 3, 6, 1]\n",
    "l2 = [-1, 2, 1, -4]\n",
    "\n",
    "res = sum(a * b for a, b in zip(l1, l2))\n",
    "    \n",
    "print(f'prodotto scalare = {res:.3f}')"
   ]
  }
 ],
 "metadata": {
  "celltoolbar": "Slideshow",
  "kernelspec": {
   "display_name": "Python 3 (ipykernel)",
   "language": "python",
   "name": "python3"
  },
  "language_info": {
   "codemirror_mode": {
    "name": "ipython",
    "version": 3
   },
   "file_extension": ".py",
   "mimetype": "text/x-python",
   "name": "python",
   "nbconvert_exporter": "python",
   "pygments_lexer": "ipython3",
   "version": "3.11.11"
  },
  "rise": {
   "center": false,
   "enable_chalkboard": true,
   "transition": "fade"
  }
 },
 "nbformat": 4,
 "nbformat_minor": 4
}
