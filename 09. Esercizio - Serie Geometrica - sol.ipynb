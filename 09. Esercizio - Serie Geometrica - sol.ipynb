{
 "cells": [
  {
   "cell_type": "markdown",
   "metadata": {
    "slideshow": {
     "slide_type": "subslide"
    }
   },
   "source": [
    "## Esercizio: Serie Geometrica\n",
    "\n",
    "**Si calcoli la somma troncata della serie geometrica**\n",
    "\n",
    "$$\n",
    "s_m = \\sum_{n = 0}^{m-1} a r^n\n",
    "$$\n",
    "\n",
    "* Il codice deve essere contenuto in un'unica cella\n",
    "* Si confronti il risultato con quello dell'espressione analitica:\n",
    "\n",
    "$$\n",
    "s_m = a \\frac{1-r^m}{1-r}\n",
    "$$"
   ]
  },
  {
   "cell_type": "markdown",
   "metadata": {
    "slideshow": {
     "slide_type": "subslide"
    }
   },
   "source": [
    "## Esercizio: Serie Geometrica\n",
    "\n",
    "**Di seguito una possibile soluzione**"
   ]
  },
  {
   "cell_type": "code",
   "execution_count": 2,
   "metadata": {},
   "outputs": [
    {
     "name": "stdout",
     "output_type": "stream",
     "text": [
      "s_m (iterativo) = 3.996\n",
      "s_m (analitico) = 3.996\n"
     ]
    }
   ],
   "source": [
    "# Dati del problema\n",
    "a, r = 2, 0.5\n",
    "m = 10\n",
    "\n",
    "res = 0 # valore di partenza per la somma\n",
    "for n in range(m):\n",
    "    # Calcolo il valore dell'incremento\n",
    "    val = a * r**n\n",
    "    # aggiorno res\n",
    "    res += val\n",
    "    \n",
    "print(f's_m (iterativo) = {res:.3f}')\n",
    "print(f's_m (analitico) = {a * (1-r**m) / (1 - r):.3f}')"
   ]
  },
  {
   "cell_type": "markdown",
   "metadata": {},
   "source": [
    "Una alternative, utilizzando le comprehension:"
   ]
  },
  {
   "cell_type": "code",
   "execution_count": 3,
   "metadata": {},
   "outputs": [
    {
     "name": "stdout",
     "output_type": "stream",
     "text": [
      "s_m (iterativo) = 3.996\n",
      "s_m (analitico) = 3.996\n"
     ]
    }
   ],
   "source": [
    "# Dati del problema\n",
    "a, r = 2, 0.5\n",
    "m = 10\n",
    "\n",
    "res = sum(a * r**n for n in range(m)) # valore di partenza per la somma\n",
    "\n",
    "print(f's_m (iterativo) = {res:.3f}')\n",
    "print(f's_m (analitico) = {a * (1-r**m) / (1 - r):.3f}')"
   ]
  }
 ],
 "metadata": {
  "celltoolbar": "Slideshow",
  "kernelspec": {
   "display_name": "Python 3 (ipykernel)",
   "language": "python",
   "name": "python3"
  },
  "language_info": {
   "codemirror_mode": {
    "name": "ipython",
    "version": 3
   },
   "file_extension": ".py",
   "mimetype": "text/x-python",
   "name": "python",
   "nbconvert_exporter": "python",
   "pygments_lexer": "ipython3",
   "version": "3.11.11"
  },
  "rise": {
   "center": false,
   "enable_chalkboard": true,
   "transition": "fade"
  }
 },
 "nbformat": 4,
 "nbformat_minor": 4
}
