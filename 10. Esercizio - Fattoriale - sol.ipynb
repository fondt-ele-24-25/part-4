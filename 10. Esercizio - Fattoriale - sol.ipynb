{
 "cells": [
  {
   "cell_type": "markdown",
   "metadata": {
    "slideshow": {
     "slide_type": "subslide"
    }
   },
   "source": [
    "## Esercizio: Fattoriale\n",
    "\n",
    "**Si scriva un programma che calcoli il fattoriale di un numero $n \\geq 0$**\n",
    "\n",
    "$$\n",
    "n!\n",
    "$$\n",
    "\n",
    "Il valore del fattoriale è $1$ se $n = 0$, altrimenti:\n",
    "\n",
    "$$\n",
    "\\prod_{i = 1}^n i\n",
    "$$\n",
    "\n",
    "* Il codice deve essere contenuto in un'unica cella\n",
    "* Verificare la correttezza eseguendo esperimenti con diversi valori di $n$"
   ]
  },
  {
   "cell_type": "markdown",
   "metadata": {
    "slideshow": {
     "slide_type": "subslide"
    }
   },
   "source": [
    "## Esercizio: Fattoriale\n",
    "\n",
    "**Di seguito una possibile soluzione**"
   ]
  },
  {
   "cell_type": "code",
   "execution_count": 1,
   "metadata": {},
   "outputs": [
    {
     "name": "stdout",
     "output_type": "stream",
     "text": [
      "7! = 5040\n"
     ]
    }
   ],
   "source": [
    "n = 7 # ingresso\n",
    "\n",
    "res = 1 # valore di partenza per la somma\n",
    "for v in range(1, n+1):\n",
    "    res *= v\n",
    "    \n",
    "print(f'{n}! = {res}')"
   ]
  }
 ],
 "metadata": {
  "celltoolbar": "Slideshow",
  "kernelspec": {
   "display_name": "Python 3 (ipykernel)",
   "language": "python",
   "name": "python3"
  },
  "language_info": {
   "codemirror_mode": {
    "name": "ipython",
    "version": 3
   },
   "file_extension": ".py",
   "mimetype": "text/x-python",
   "name": "python",
   "nbconvert_exporter": "python",
   "pygments_lexer": "ipython3",
   "version": "3.11.11"
  },
  "rise": {
   "center": false,
   "enable_chalkboard": true,
   "transition": "fade"
  }
 },
 "nbformat": 4,
 "nbformat_minor": 4
}
