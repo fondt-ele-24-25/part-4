{
 "cells": [
  {
   "cell_type": "markdown",
   "metadata": {
    "slideshow": {
     "slide_type": "subslide"
    }
   },
   "source": [
    "## Esercizio: Logaritmo (1)\n",
    "\n",
    "**Si scriva un programma che approssimi il valore $\\ln(1+x)$, con $|x| < 1$**\n",
    "\n",
    "...Usando il suo sviluppo in serie di Taylor:\n",
    "\n",
    "$$\n",
    "\\ln(1+x) \\simeq \\sum_{n = 1}^m (-1)^{n+1} \\frac{x^n}{n}\n",
    "$$\n",
    "\n",
    "* Si noti che la serie è troncata all'indice $m$\n",
    "* Il codice deve essere contenuto in un'unica cella\n",
    "* Si effettuini esperimenti con diversi valori di $x$ e di $m$\n",
    "* Per facilitare la verifica, si tenga presente che:\n",
    "\n",
    "$$\n",
    "\\ln(1+0.1) \\simeq 0.095 \\quad \\ln(1+0.2) \\simeq 0.182 \\quad \\ln(1+0.3) \\simeq 0.262\n",
    "$$"
   ]
  },
  {
   "cell_type": "markdown",
   "metadata": {
    "slideshow": {
     "slide_type": "subslide"
    }
   },
   "source": [
    "## Esercizio: Logaritmo (1)\n",
    "\n",
    "**Di seguito una possibile soluzione**"
   ]
  },
  {
   "cell_type": "code",
   "execution_count": 2,
   "metadata": {},
   "outputs": [
    {
     "name": "stdout",
     "output_type": "stream",
     "text": [
      "\\ln(1+0.100) ~= 0.095\n"
     ]
    }
   ],
   "source": [
    "# Dati del problema\n",
    "x = 0.1\n",
    "m = 15\n",
    "\n",
    "res = 0 # valore di partenza per la somma\n",
    "for n in range(1, m+1):\n",
    "    # Calcolo il segno dell'incremento\n",
    "    sgn = 1 if (n+1) % 2 == 0 else -1\n",
    "    # aggiorno res\n",
    "    res += sgn * x**n / n\n",
    "    \n",
    "print(f'\\ln(1+{x:.3f}) ~= {res:.3f}')"
   ]
  },
  {
   "cell_type": "markdown",
   "metadata": {},
   "source": [
    "Una alternative, utilizzando le comprehension:"
   ]
  },
  {
   "cell_type": "code",
   "execution_count": 3,
   "metadata": {},
   "outputs": [
    {
     "name": "stdout",
     "output_type": "stream",
     "text": [
      "\\ln(1+0.100) ~= 0.095\n"
     ]
    }
   ],
   "source": [
    "# Dati del problema\n",
    "x = 0.1\n",
    "m = 15\n",
    "\n",
    "res = sum((-1)**(n+1) * x**n / n for n in range(1, m+1))\n",
    "\n",
    "    \n",
    "print(f'\\ln(1+{x:.3f}) ~= {res:.3f}')"
   ]
  }
 ],
 "metadata": {
  "celltoolbar": "Slideshow",
  "kernelspec": {
   "display_name": "Python 3 (ipykernel)",
   "language": "python",
   "name": "python3"
  },
  "language_info": {
   "codemirror_mode": {
    "name": "ipython",
    "version": 3
   },
   "file_extension": ".py",
   "mimetype": "text/x-python",
   "name": "python",
   "nbconvert_exporter": "python",
   "pygments_lexer": "ipython3",
   "version": "3.11.11"
  },
  "rise": {
   "center": false,
   "enable_chalkboard": true,
   "transition": "fade"
  }
 },
 "nbformat": 4,
 "nbformat_minor": 4
}
