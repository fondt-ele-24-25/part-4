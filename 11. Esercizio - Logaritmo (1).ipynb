{
 "cells": [
  {
   "cell_type": "markdown",
   "metadata": {
    "slideshow": {
     "slide_type": "subslide"
    }
   },
   "source": [
    "## Esercizio: Logaritmo (1)\n",
    "\n",
    "**Si scriva un programma che approssimi il valore $\\ln(1+x)$, con $|x| < 1$**\n",
    "\n",
    "...Usando il suo sviluppo in serie di Taylor:\n",
    "\n",
    "$$\n",
    "\\ln(1+x) \\simeq \\sum_{n = 1}^m (-1)^{n+1} \\frac{x^n}{n}\n",
    "$$\n",
    "\n",
    "* Si noti che la serie è troncata all'indice $m$\n",
    "* Il codice deve essere contenuto in un'unica cella\n",
    "* Si effettuini esperimenti con diversi valori di $x$ e di $m$\n",
    "* Per facilitare la verifica, si tenga presente che:\n",
    "\n",
    "$$\n",
    "\\ln(1+0.1) \\simeq 0.095 \\quad \\ln(1+0.2) \\simeq 0.182 \\quad \\ln(1+0.3) \\simeq 0.262\n",
    "$$"
   ]
  },
  {
   "cell_type": "markdown",
   "metadata": {
    "slideshow": {
     "slide_type": "subslide"
    }
   },
   "source": [
    "## Esercizio: Logaritmo (1)\n",
    "\n",
    "**Di seguito una possibile soluzione**"
   ]
  },
  {
   "cell_type": "code",
   "execution_count": 1,
   "metadata": {},
   "outputs": [],
   "source": [
    "# Dati del problema\n",
    "x = 0.1\n",
    "m = 15"
   ]
  }
 ],
 "metadata": {
  "celltoolbar": "Slideshow",
  "kernelspec": {
   "display_name": "Python 3 (ipykernel)",
   "language": "python",
   "name": "python3"
  },
  "language_info": {
   "codemirror_mode": {
    "name": "ipython",
    "version": 3
   },
   "file_extension": ".py",
   "mimetype": "text/x-python",
   "name": "python",
   "nbconvert_exporter": "python",
   "pygments_lexer": "ipython3",
   "version": "3.11.11"
  },
  "rise": {
   "center": false,
   "enable_chalkboard": true,
   "transition": "fade"
  }
 },
 "nbformat": 4,
 "nbformat_minor": 4
}
