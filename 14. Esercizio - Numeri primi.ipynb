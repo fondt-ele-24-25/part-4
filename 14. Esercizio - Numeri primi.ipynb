{
 "cells": [
  {
   "cell_type": "markdown",
   "metadata": {
    "slideshow": {
     "slide_type": "subslide"
    }
   },
   "source": [
    "## Esercizio: Numeri Primi\n",
    "\n",
    "**Si scriva un programma che identifichi se un numero $n$ è primo**\n",
    "\n",
    "...Usando il seguente algoritmo:\n",
    "\n",
    "* $\\mathit{primo} = \\mathit{vero}$\n",
    "* Per $d$ nell'intervallo intero $\\{2 ... \\lfloor \\sqrt{n}\\rfloor\\}$\n",
    "  - Se $n \\mod d = 0$\n",
    "    - $\\mathit{primo} = \\mathit{falso}$\n",
    "    - break\n",
    "\n",
    "Alcune note:\n",
    "\n",
    "* `range` richiede che i suoi argomenti siano interi\n",
    "  - Si può usare la funzione `int(<espr.>)` per convertire in intero un dato\n",
    "  - Se applicata ad un numero decimale, la funzione arrontonda verso lo zero (i.e. per troncamento) \n",
    "* Il codice deve essere contenuto in un'unica cella\n",
    "* Si facciano esperimenti con vari valori di $n$"
   ]
  },
  {
   "cell_type": "markdown",
   "metadata": {
    "slideshow": {
     "slide_type": "subslide"
    }
   },
   "source": [
    "## Esercizio: Numeri Primi\n",
    "\n",
    "**Di seguito una possibile soluzione**"
   ]
  },
  {
   "cell_type": "code",
   "execution_count": 1,
   "metadata": {},
   "outputs": [],
   "source": [
    "# Dati del problema\n",
    "n = 13"
   ]
  }
 ],
 "metadata": {
  "celltoolbar": "Slideshow",
  "kernelspec": {
   "display_name": "Python 3 (ipykernel)",
   "language": "python",
   "name": "python3"
  },
  "language_info": {
   "codemirror_mode": {
    "name": "ipython",
    "version": 3
   },
   "file_extension": ".py",
   "mimetype": "text/x-python",
   "name": "python",
   "nbconvert_exporter": "python",
   "pygments_lexer": "ipython3",
   "version": "3.11.11"
  },
  "rise": {
   "center": false,
   "enable_chalkboard": true,
   "transition": "fade"
  }
 },
 "nbformat": 4,
 "nbformat_minor": 4
}
